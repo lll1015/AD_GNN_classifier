{
 "cells": [
  {
   "cell_type": "code",
   "execution_count": null,
   "id": "de764376-ebee-49e0-9b15-f53514de9345",
   "metadata": {
    "tags": []
   },
   "outputs": [],
   "source": [
    "len(predicted_list) #2000\n",
    "predicted_list.count(0)\n",
    "predicted_list.count(1)\n",
    "labels_list.count(0)\n",
    "sum([1 for label, predicted in zip(labels_list, predicted_list) if label == predicted])/len(predicted_list)"
   ]
  },
  {
   "cell_type": "code",
   "execution_count": null,
   "id": "2b65c958-50d7-4ae1-a07a-13848a8fc937",
   "metadata": {
    "tags": []
   },
   "outputs": [],
   "source": [
    "predicted = torch.tensor(predicted_list)\n",
    "labels = torch.tensor(labels_list)\n",
    "\n",
    "# 确定类别总数\n",
    "num_classes = torch.max(torch.cat((predicted, labels))) + 1\n",
    "\n",
    "# 初始化混淆矩阵\n",
    "confusion_matrix = torch.zeros(num_classes, num_classes)\n",
    "\n",
    "# 填充混淆矩阵\n",
    "for t, p in zip(labels.view(-1), predicted.view(-1)):\n",
    "    confusion_matrix[t.long(), p.long()] += 1\n",
    "\n",
    "confusion_matrix"
   ]
  },
  {
   "cell_type": "code",
   "execution_count": null,
   "id": "a753efe4-b56d-4261-ace3-8769f43466a6",
   "metadata": {
    "tags": []
   },
   "outputs": [],
   "source": [
    "# 计算性能指标\n",
    "TP = int(confusion_matrix[0][0])\n",
    "FP = int(confusion_matrix[0][1])\n",
    "FN = int(confusion_matrix[1][0])\n",
    "TN = int(confusion_matrix[1][1])\n",
    "\n",
    "# 精确率 Precision\n",
    "precision = TP / (TP + FP)\n",
    "# 召回率 Recall\n",
    "recall = TP / (TP + FN)\n",
    "# F1分数\n",
    "F1 = 2 * (precision * recall) / (precision + recall)\n",
    "\n",
    "# 计算总体准确率\n",
    "accuracy = (TP + TN) / (TP + TN + FN + FP)\n",
    "\n",
    "print(f'Accuracy: {accuracy:.4f}')\n",
    "print(f'Precision per class: {precision:.4f}')\n",
    "print(f'Recall per class: {recall:.4f}')\n",
    "print(f'F1 Score per class: {F1:.4f}')"
   ]
  },
  {
   "cell_type": "code",
   "execution_count": null,
   "id": "db3821ee-ef31-4708-b061-812c5f401163",
   "metadata": {},
   "outputs": [],
   "source": []
  },
  {
   "cell_type": "code",
   "execution_count": null,
   "id": "31dc1544-6347-4b14-96b7-41079b385b10",
   "metadata": {},
   "outputs": [],
   "source": []
  }
 ],
 "metadata": {
  "kernelspec": {
   "display_name": "myconda",
   "language": "python",
   "name": "myconda"
  },
  "language_info": {
   "codemirror_mode": {
    "name": "ipython",
    "version": 3
   },
   "file_extension": ".py",
   "mimetype": "text/x-python",
   "name": "python",
   "nbconvert_exporter": "python",
   "pygments_lexer": "ipython3",
   "version": "3.10.12"
  }
 },
 "nbformat": 4,
 "nbformat_minor": 5
}
